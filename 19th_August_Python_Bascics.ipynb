{
 "cells": [
  {
   "cell_type": "markdown",
   "id": "8a3abf7d",
   "metadata": {},
   "source": [
    "# TOPIC:Python Basics Variable"
   ]
  },
  {
   "cell_type": "code",
   "execution_count": 1,
   "id": "e1c571d9",
   "metadata": {},
   "outputs": [
    {
     "name": "stdout",
     "output_type": "stream",
     "text": [
      "before swaping x = 14 y = 15\n",
      "After swaping x = 15 y = 14\n",
      "\n",
      "2\n",
      "23\n",
      "Area of rectangle 46\n",
      "\n",
      "write temperature in celsius:24\n",
      "temperature in fahrenheit: 75.2 degree F\n"
     ]
    }
   ],
   "source": [
    "# 1. Declare two variables, `x` and `y`, and assign them integer values.\n",
    "# Swap the values of these variables without using any temporary variable.\n",
    "x = 14\n",
    "y = 15\n",
    "print(\"before swaping\",'x =',x,'y =',y)\n",
    "x,y=y,x\n",
    "print(\"After swaping\",'x =',x,'y =',y)\n",
    "print()\n",
    "# 2. Create a program that calculates the area of a rectangle. Take the\n",
    "# length and width as inputs from the user and store them in variables.\n",
    "# Calculate and display the area.\n",
    "length=int(input())\n",
    "width=int(input())\n",
    "print('Area of rectangle',length*width)\n",
    "print()\n",
    "# 3. Write a Python program that converts temperature from Celsius to\n",
    "# Fahrenheit. Take the temperature in Celsius as input, store it in a\n",
    "# variable, convert it to Fahrenheit, and display the result.\n",
    "temp = float(input(\"write temperature in celsius:\"))\n",
    "c_f = (9/5)*temp+32\n",
    "print('temperature in fahrenheit:',c_f,'degree F')\n"
   ]
  },
  {
   "cell_type": "markdown",
   "id": "266345d4",
   "metadata": {},
   "source": [
    "# TOPIC: String Based Questions"
   ]
  },
  {
   "cell_type": "code",
   "execution_count": 2,
   "id": "08cecfb7",
   "metadata": {},
   "outputs": [
    {
     "name": "stdout",
     "output_type": "stream",
     "text": [
      "write string to check length:pwskills classes\n",
      "length of the string 16\n",
      "length using len function 16\n",
      "\n",
      "write sentence to check number of vowels:a quick brown fox jumps over the lazy dog\n",
      "number of vowels 11\n",
      "\n",
      "write string you want to reverse:if you are not yelling at your kids you are not spending enough time with them.\n",
      "reversed string .meht htiw emit hguone gnidneps ton era uoy sdik ruoy ta gnilley ton era uoy fi\n",
      "\n",
      "write to check palindrome:Level\n",
      "strings are palindrome\n",
      "\n",
      "write a string with spaces:remove all spaces and give me words\n",
      "string without spaces removeallspacesandgivemewords\n"
     ]
    }
   ],
   "source": [
    "# 1. Write a Python program that takes a string as input and prints the\n",
    "# length of the string.\n",
    "string = input('write string to check length:')\n",
    "count=0\n",
    "for char in string:\n",
    "    count+=1\n",
    "print('length of the string',count,end='\\n')\n",
    "print('length using len function',len(string))\n",
    "print()\n",
    "# 2. Create a program that takes a sentence from the user and counts the\n",
    "# number of vowels (a, e, i, o, u) in the string.\n",
    "sentence = input('write sentence to check number of vowels:')\n",
    "count_vowel = sentence.count('a')+sentence.count('e')+sentence.count('i')+sentence.count('o')+sentence.count('u')\n",
    "print('number of vowels',count_vowel)\n",
    "print()\n",
    "# 3. Given a string, reverse the order of characters using string slicing and\n",
    "# print the reversed string.\n",
    "string_ = input('write string you want to reverse:') \n",
    "reversed_string = string_[::-1]\n",
    "print('reversed string',reversed_string)\n",
    "print()\n",
    "# 4. Write a program that takes a string as input and checks if it is a\n",
    "# palindrome (reads the same forwards and backwards).\n",
    "string_one = input('write to check palindrome:').lower()\n",
    "if string_one == string_one[::-1]:\n",
    "    print('strings are palindrome')\n",
    "else:\n",
    "    print('no it is not a palindrome')\n",
    "print()\n",
    "# 5. Create a program that takes a string as input and removes all the\n",
    "# spaces from it. Print the modified string without spaces.\n",
    "string_spaces = input('write a string with spaces:')\n",
    "string_no_spaces = string_spaces.replace(' ','')\n",
    "print('string without spaces',string_no_spaces)"
   ]
  }
 ],
 "metadata": {
  "kernelspec": {
   "display_name": "Python 3 (ipykernel)",
   "language": "python",
   "name": "python3"
  },
  "language_info": {
   "codemirror_mode": {
    "name": "ipython",
    "version": 3
   },
   "file_extension": ".py",
   "mimetype": "text/x-python",
   "name": "python",
   "nbconvert_exporter": "python",
   "pygments_lexer": "ipython3",
   "version": "3.9.13"
  }
 },
 "nbformat": 4,
 "nbformat_minor": 5
}
